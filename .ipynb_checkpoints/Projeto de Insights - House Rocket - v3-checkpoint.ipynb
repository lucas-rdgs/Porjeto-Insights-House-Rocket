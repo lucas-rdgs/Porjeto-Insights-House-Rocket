{
 "cells": [
  {
   "cell_type": "markdown",
   "id": "ece1ec65",
   "metadata": {},
   "source": [
    "# Projeto de Insights - House Rocket\n",
    "\n",
    "A House Rocket é uma plataforma digital que tem como modelo de negócio, a compra e a venda de imóveis usando tecnologia.\n",
    "\n",
    "Origem dos dados: \n",
    "https://www.kaggle.com/datasets/harlfoxem/housesalesprediction"
   ]
  },
  {
   "cell_type": "markdown",
   "id": "e678116c",
   "metadata": {},
   "source": [
    "## Perguntas do CEO"
   ]
  },
  {
   "cell_type": "markdown",
   "id": "f6aa6611",
   "metadata": {},
   "source": [
    "### 1. Qual a quantidade de imóveis por nível? \n",
    ">- Nível 0 -> Preço entre RS0 e RS321.950\n",
    ">- Nível 1 -> Preço entre RS321.950 e RS450.000\n",
    ">- Nível 2 -> Preço entre RS450.000 e RS645.000\n",
    ">- Nível 3 -> Acima de RS 645.000\n",
    "\n",
    "### 2. Adicione as seguintes informações ao imóvel:\n",
    ">- O nome da Rua\n",
    ">- O número do Imóvel\n",
    ">- O nome do Bairro\n",
    ">- O nome da Cidade\n",
    ">- O nome da Estado\n",
    "\n",
    "### 3. Adicionar o Nível dos imóveis no Mapa como uma Cor\n",
    "\n",
    "### 4. Adicionar o Preço dos imóveis como o tamanho do ponto no mapa\n",
    "\n",
    "### 5. Adicionar opções de filtros para eu fazer minhas próprias análises:\n",
    ">1. Eu quero escolher visualizar imóveis com vista para água ou não.\n",
    ">2. Eu quero filtrar os imóveis até um certo valor de preço.\n",
    "\n",
    "### 6. Adicionar opções de filtros no último dashboard enviado:\n",
    ">1. Eu quero visualizar somente valor a partir de um data disponível para compra."
   ]
  },
  {
   "cell_type": "markdown",
   "id": "f4b860ab",
   "metadata": {},
   "source": [
    "### 0. Preparação"
   ]
  },
  {
   "cell_type": "code",
   "execution_count": 1,
   "id": "b9721d8f",
   "metadata": {},
   "outputs": [],
   "source": [
    "# Importando as bibliotecas"
   ]
  },
  {
   "cell_type": "code",
   "execution_count": 1,
   "id": "142bf5aa",
   "metadata": {},
   "outputs": [],
   "source": [
    "import pandas as pd"
   ]
  },
  {
   "cell_type": "code",
   "execution_count": 2,
   "id": "300dd378",
   "metadata": {},
   "outputs": [],
   "source": [
    "data = pd.read_csv('kc_house_data.csv')"
   ]
  },
  {
   "cell_type": "code",
   "execution_count": 4,
   "id": "a09f1f47",
   "metadata": {},
   "outputs": [
    {
     "data": {
      "text/html": [
       "<div>\n",
       "<style scoped>\n",
       "    .dataframe tbody tr th:only-of-type {\n",
       "        vertical-align: middle;\n",
       "    }\n",
       "\n",
       "    .dataframe tbody tr th {\n",
       "        vertical-align: top;\n",
       "    }\n",
       "\n",
       "    .dataframe thead th {\n",
       "        text-align: right;\n",
       "    }\n",
       "</style>\n",
       "<table border=\"1\" class=\"dataframe\">\n",
       "  <thead>\n",
       "    <tr style=\"text-align: right;\">\n",
       "      <th></th>\n",
       "      <th>id</th>\n",
       "      <th>date</th>\n",
       "      <th>price</th>\n",
       "      <th>bedrooms</th>\n",
       "      <th>bathrooms</th>\n",
       "      <th>sqft_living</th>\n",
       "      <th>sqft_lot</th>\n",
       "      <th>floors</th>\n",
       "      <th>waterfront</th>\n",
       "      <th>view</th>\n",
       "      <th>...</th>\n",
       "      <th>grade</th>\n",
       "      <th>sqft_above</th>\n",
       "      <th>sqft_basement</th>\n",
       "      <th>yr_built</th>\n",
       "      <th>yr_renovated</th>\n",
       "      <th>zipcode</th>\n",
       "      <th>lat</th>\n",
       "      <th>long</th>\n",
       "      <th>sqft_living15</th>\n",
       "      <th>sqft_lot15</th>\n",
       "    </tr>\n",
       "  </thead>\n",
       "  <tbody>\n",
       "    <tr>\n",
       "      <th>0</th>\n",
       "      <td>7129300520</td>\n",
       "      <td>20141013T000000</td>\n",
       "      <td>221900.0</td>\n",
       "      <td>3</td>\n",
       "      <td>1.00</td>\n",
       "      <td>1180</td>\n",
       "      <td>5650</td>\n",
       "      <td>1.0</td>\n",
       "      <td>0</td>\n",
       "      <td>0</td>\n",
       "      <td>...</td>\n",
       "      <td>7</td>\n",
       "      <td>1180</td>\n",
       "      <td>0</td>\n",
       "      <td>1955</td>\n",
       "      <td>0</td>\n",
       "      <td>98178</td>\n",
       "      <td>47.5112</td>\n",
       "      <td>-122.257</td>\n",
       "      <td>1340</td>\n",
       "      <td>5650</td>\n",
       "    </tr>\n",
       "    <tr>\n",
       "      <th>1</th>\n",
       "      <td>6414100192</td>\n",
       "      <td>20141209T000000</td>\n",
       "      <td>538000.0</td>\n",
       "      <td>3</td>\n",
       "      <td>2.25</td>\n",
       "      <td>2570</td>\n",
       "      <td>7242</td>\n",
       "      <td>2.0</td>\n",
       "      <td>0</td>\n",
       "      <td>0</td>\n",
       "      <td>...</td>\n",
       "      <td>7</td>\n",
       "      <td>2170</td>\n",
       "      <td>400</td>\n",
       "      <td>1951</td>\n",
       "      <td>1991</td>\n",
       "      <td>98125</td>\n",
       "      <td>47.7210</td>\n",
       "      <td>-122.319</td>\n",
       "      <td>1690</td>\n",
       "      <td>7639</td>\n",
       "    </tr>\n",
       "    <tr>\n",
       "      <th>2</th>\n",
       "      <td>5631500400</td>\n",
       "      <td>20150225T000000</td>\n",
       "      <td>180000.0</td>\n",
       "      <td>2</td>\n",
       "      <td>1.00</td>\n",
       "      <td>770</td>\n",
       "      <td>10000</td>\n",
       "      <td>1.0</td>\n",
       "      <td>0</td>\n",
       "      <td>0</td>\n",
       "      <td>...</td>\n",
       "      <td>6</td>\n",
       "      <td>770</td>\n",
       "      <td>0</td>\n",
       "      <td>1933</td>\n",
       "      <td>0</td>\n",
       "      <td>98028</td>\n",
       "      <td>47.7379</td>\n",
       "      <td>-122.233</td>\n",
       "      <td>2720</td>\n",
       "      <td>8062</td>\n",
       "    </tr>\n",
       "    <tr>\n",
       "      <th>3</th>\n",
       "      <td>2487200875</td>\n",
       "      <td>20141209T000000</td>\n",
       "      <td>604000.0</td>\n",
       "      <td>4</td>\n",
       "      <td>3.00</td>\n",
       "      <td>1960</td>\n",
       "      <td>5000</td>\n",
       "      <td>1.0</td>\n",
       "      <td>0</td>\n",
       "      <td>0</td>\n",
       "      <td>...</td>\n",
       "      <td>7</td>\n",
       "      <td>1050</td>\n",
       "      <td>910</td>\n",
       "      <td>1965</td>\n",
       "      <td>0</td>\n",
       "      <td>98136</td>\n",
       "      <td>47.5208</td>\n",
       "      <td>-122.393</td>\n",
       "      <td>1360</td>\n",
       "      <td>5000</td>\n",
       "    </tr>\n",
       "    <tr>\n",
       "      <th>4</th>\n",
       "      <td>1954400510</td>\n",
       "      <td>20150218T000000</td>\n",
       "      <td>510000.0</td>\n",
       "      <td>3</td>\n",
       "      <td>2.00</td>\n",
       "      <td>1680</td>\n",
       "      <td>8080</td>\n",
       "      <td>1.0</td>\n",
       "      <td>0</td>\n",
       "      <td>0</td>\n",
       "      <td>...</td>\n",
       "      <td>8</td>\n",
       "      <td>1680</td>\n",
       "      <td>0</td>\n",
       "      <td>1987</td>\n",
       "      <td>0</td>\n",
       "      <td>98074</td>\n",
       "      <td>47.6168</td>\n",
       "      <td>-122.045</td>\n",
       "      <td>1800</td>\n",
       "      <td>7503</td>\n",
       "    </tr>\n",
       "  </tbody>\n",
       "</table>\n",
       "<p>5 rows × 21 columns</p>\n",
       "</div>"
      ],
      "text/plain": [
       "           id             date     price  bedrooms  bathrooms  sqft_living  \\\n",
       "0  7129300520  20141013T000000  221900.0         3       1.00         1180   \n",
       "1  6414100192  20141209T000000  538000.0         3       2.25         2570   \n",
       "2  5631500400  20150225T000000  180000.0         2       1.00          770   \n",
       "3  2487200875  20141209T000000  604000.0         4       3.00         1960   \n",
       "4  1954400510  20150218T000000  510000.0         3       2.00         1680   \n",
       "\n",
       "   sqft_lot  floors  waterfront  view  ...  grade  sqft_above  sqft_basement  \\\n",
       "0      5650     1.0           0     0  ...      7        1180              0   \n",
       "1      7242     2.0           0     0  ...      7        2170            400   \n",
       "2     10000     1.0           0     0  ...      6         770              0   \n",
       "3      5000     1.0           0     0  ...      7        1050            910   \n",
       "4      8080     1.0           0     0  ...      8        1680              0   \n",
       "\n",
       "   yr_built  yr_renovated  zipcode      lat     long  sqft_living15  \\\n",
       "0      1955             0    98178  47.5112 -122.257           1340   \n",
       "1      1951          1991    98125  47.7210 -122.319           1690   \n",
       "2      1933             0    98028  47.7379 -122.233           2720   \n",
       "3      1965             0    98136  47.5208 -122.393           1360   \n",
       "4      1987             0    98074  47.6168 -122.045           1800   \n",
       "\n",
       "   sqft_lot15  \n",
       "0        5650  \n",
       "1        7639  \n",
       "2        8062  \n",
       "3        5000  \n",
       "4        7503  \n",
       "\n",
       "[5 rows x 21 columns]"
      ]
     },
     "execution_count": 4,
     "metadata": {},
     "output_type": "execute_result"
    }
   ],
   "source": [
    "data.head()"
   ]
  },
  {
   "cell_type": "markdown",
   "id": "e564c113",
   "metadata": {},
   "source": [
    "### 1. Qual a quantidade de imóveis por nível? \n",
    ">- Nível 0 -> Preço entre RS0 e RS321.950\n",
    ">- Nível 1 -> Preço entre RS321.950 e RS450.000\n",
    ">- Nível 2 -> Preço entre RS450.000 e RS645.000\n",
    ">- Nível 3 -> Acima de RS 645.000"
   ]
  },
  {
   "cell_type": "code",
   "execution_count": 3,
   "id": "7110e9ae",
   "metadata": {},
   "outputs": [],
   "source": [
    "for i in range(len(data)):\n",
    "    if (data.loc[i, 'price'] > 0) & (data.loc[i, 'price'] < 321950):\n",
    "        data.loc[i, 'level'] = 'level_0'\n",
    "    \n",
    "    elif (data.loc[i, 'price'] >= 321950) & (data.loc[i, 'price'] < 450000):\n",
    "        data.loc[i, 'level'] = 'level_1'\n",
    "    \n",
    "    elif (data.loc[i, 'price'] >= 450000) & (data.loc[i, 'price'] < 645000):\n",
    "        data.loc[i, 'level'] = 'level_2'\n",
    "    \n",
    "    else:\n",
    "        data.loc[i, 'level'] = 'level_3'"
   ]
  },
  {
   "cell_type": "code",
   "execution_count": 4,
   "id": "6aed5a85",
   "metadata": {},
   "outputs": [
    {
     "data": {
      "text/html": [
       "<div>\n",
       "<style scoped>\n",
       "    .dataframe tbody tr th:only-of-type {\n",
       "        vertical-align: middle;\n",
       "    }\n",
       "\n",
       "    .dataframe tbody tr th {\n",
       "        vertical-align: top;\n",
       "    }\n",
       "\n",
       "    .dataframe thead th {\n",
       "        text-align: right;\n",
       "    }\n",
       "</style>\n",
       "<table border=\"1\" class=\"dataframe\">\n",
       "  <thead>\n",
       "    <tr style=\"text-align: right;\">\n",
       "      <th></th>\n",
       "      <th>id</th>\n",
       "      <th>date</th>\n",
       "      <th>price</th>\n",
       "      <th>bedrooms</th>\n",
       "      <th>bathrooms</th>\n",
       "      <th>sqft_living</th>\n",
       "      <th>sqft_lot</th>\n",
       "      <th>floors</th>\n",
       "      <th>waterfront</th>\n",
       "      <th>view</th>\n",
       "      <th>...</th>\n",
       "      <th>sqft_above</th>\n",
       "      <th>sqft_basement</th>\n",
       "      <th>yr_built</th>\n",
       "      <th>yr_renovated</th>\n",
       "      <th>zipcode</th>\n",
       "      <th>lat</th>\n",
       "      <th>long</th>\n",
       "      <th>sqft_living15</th>\n",
       "      <th>sqft_lot15</th>\n",
       "      <th>level</th>\n",
       "    </tr>\n",
       "  </thead>\n",
       "  <tbody>\n",
       "    <tr>\n",
       "      <th>0</th>\n",
       "      <td>7129300520</td>\n",
       "      <td>20141013T000000</td>\n",
       "      <td>221900.0</td>\n",
       "      <td>3</td>\n",
       "      <td>1.00</td>\n",
       "      <td>1180</td>\n",
       "      <td>5650</td>\n",
       "      <td>1.0</td>\n",
       "      <td>0</td>\n",
       "      <td>0</td>\n",
       "      <td>...</td>\n",
       "      <td>1180</td>\n",
       "      <td>0</td>\n",
       "      <td>1955</td>\n",
       "      <td>0</td>\n",
       "      <td>98178</td>\n",
       "      <td>47.5112</td>\n",
       "      <td>-122.257</td>\n",
       "      <td>1340</td>\n",
       "      <td>5650</td>\n",
       "      <td>level_0</td>\n",
       "    </tr>\n",
       "    <tr>\n",
       "      <th>1</th>\n",
       "      <td>6414100192</td>\n",
       "      <td>20141209T000000</td>\n",
       "      <td>538000.0</td>\n",
       "      <td>3</td>\n",
       "      <td>2.25</td>\n",
       "      <td>2570</td>\n",
       "      <td>7242</td>\n",
       "      <td>2.0</td>\n",
       "      <td>0</td>\n",
       "      <td>0</td>\n",
       "      <td>...</td>\n",
       "      <td>2170</td>\n",
       "      <td>400</td>\n",
       "      <td>1951</td>\n",
       "      <td>1991</td>\n",
       "      <td>98125</td>\n",
       "      <td>47.7210</td>\n",
       "      <td>-122.319</td>\n",
       "      <td>1690</td>\n",
       "      <td>7639</td>\n",
       "      <td>level_2</td>\n",
       "    </tr>\n",
       "    <tr>\n",
       "      <th>2</th>\n",
       "      <td>5631500400</td>\n",
       "      <td>20150225T000000</td>\n",
       "      <td>180000.0</td>\n",
       "      <td>2</td>\n",
       "      <td>1.00</td>\n",
       "      <td>770</td>\n",
       "      <td>10000</td>\n",
       "      <td>1.0</td>\n",
       "      <td>0</td>\n",
       "      <td>0</td>\n",
       "      <td>...</td>\n",
       "      <td>770</td>\n",
       "      <td>0</td>\n",
       "      <td>1933</td>\n",
       "      <td>0</td>\n",
       "      <td>98028</td>\n",
       "      <td>47.7379</td>\n",
       "      <td>-122.233</td>\n",
       "      <td>2720</td>\n",
       "      <td>8062</td>\n",
       "      <td>level_0</td>\n",
       "    </tr>\n",
       "    <tr>\n",
       "      <th>3</th>\n",
       "      <td>2487200875</td>\n",
       "      <td>20141209T000000</td>\n",
       "      <td>604000.0</td>\n",
       "      <td>4</td>\n",
       "      <td>3.00</td>\n",
       "      <td>1960</td>\n",
       "      <td>5000</td>\n",
       "      <td>1.0</td>\n",
       "      <td>0</td>\n",
       "      <td>0</td>\n",
       "      <td>...</td>\n",
       "      <td>1050</td>\n",
       "      <td>910</td>\n",
       "      <td>1965</td>\n",
       "      <td>0</td>\n",
       "      <td>98136</td>\n",
       "      <td>47.5208</td>\n",
       "      <td>-122.393</td>\n",
       "      <td>1360</td>\n",
       "      <td>5000</td>\n",
       "      <td>level_2</td>\n",
       "    </tr>\n",
       "    <tr>\n",
       "      <th>4</th>\n",
       "      <td>1954400510</td>\n",
       "      <td>20150218T000000</td>\n",
       "      <td>510000.0</td>\n",
       "      <td>3</td>\n",
       "      <td>2.00</td>\n",
       "      <td>1680</td>\n",
       "      <td>8080</td>\n",
       "      <td>1.0</td>\n",
       "      <td>0</td>\n",
       "      <td>0</td>\n",
       "      <td>...</td>\n",
       "      <td>1680</td>\n",
       "      <td>0</td>\n",
       "      <td>1987</td>\n",
       "      <td>0</td>\n",
       "      <td>98074</td>\n",
       "      <td>47.6168</td>\n",
       "      <td>-122.045</td>\n",
       "      <td>1800</td>\n",
       "      <td>7503</td>\n",
       "      <td>level_2</td>\n",
       "    </tr>\n",
       "  </tbody>\n",
       "</table>\n",
       "<p>5 rows × 22 columns</p>\n",
       "</div>"
      ],
      "text/plain": [
       "           id             date     price  bedrooms  bathrooms  sqft_living  \\\n",
       "0  7129300520  20141013T000000  221900.0         3       1.00         1180   \n",
       "1  6414100192  20141209T000000  538000.0         3       2.25         2570   \n",
       "2  5631500400  20150225T000000  180000.0         2       1.00          770   \n",
       "3  2487200875  20141209T000000  604000.0         4       3.00         1960   \n",
       "4  1954400510  20150218T000000  510000.0         3       2.00         1680   \n",
       "\n",
       "   sqft_lot  floors  waterfront  view  ...  sqft_above  sqft_basement  \\\n",
       "0      5650     1.0           0     0  ...        1180              0   \n",
       "1      7242     2.0           0     0  ...        2170            400   \n",
       "2     10000     1.0           0     0  ...         770              0   \n",
       "3      5000     1.0           0     0  ...        1050            910   \n",
       "4      8080     1.0           0     0  ...        1680              0   \n",
       "\n",
       "   yr_built  yr_renovated  zipcode      lat     long  sqft_living15  \\\n",
       "0      1955             0    98178  47.5112 -122.257           1340   \n",
       "1      1951          1991    98125  47.7210 -122.319           1690   \n",
       "2      1933             0    98028  47.7379 -122.233           2720   \n",
       "3      1965             0    98136  47.5208 -122.393           1360   \n",
       "4      1987             0    98074  47.6168 -122.045           1800   \n",
       "\n",
       "   sqft_lot15    level  \n",
       "0        5650  level_0  \n",
       "1        7639  level_2  \n",
       "2        8062  level_0  \n",
       "3        5000  level_2  \n",
       "4        7503  level_2  \n",
       "\n",
       "[5 rows x 22 columns]"
      ]
     },
     "execution_count": 4,
     "metadata": {},
     "output_type": "execute_result"
    }
   ],
   "source": [
    "data.head()"
   ]
  },
  {
   "cell_type": "code",
   "execution_count": 7,
   "id": "3ab94a9e",
   "metadata": {},
   "outputs": [
    {
     "data": {
      "text/html": [
       "<div>\n",
       "<style scoped>\n",
       "    .dataframe tbody tr th:only-of-type {\n",
       "        vertical-align: middle;\n",
       "    }\n",
       "\n",
       "    .dataframe tbody tr th {\n",
       "        vertical-align: top;\n",
       "    }\n",
       "\n",
       "    .dataframe thead th {\n",
       "        text-align: right;\n",
       "    }\n",
       "</style>\n",
       "<table border=\"1\" class=\"dataframe\">\n",
       "  <thead>\n",
       "    <tr style=\"text-align: right;\">\n",
       "      <th></th>\n",
       "      <th>nivel</th>\n",
       "      <th>id</th>\n",
       "    </tr>\n",
       "  </thead>\n",
       "  <tbody>\n",
       "    <tr>\n",
       "      <th>0</th>\n",
       "      <td>nivel 2</td>\n",
       "      <td>5508</td>\n",
       "    </tr>\n",
       "    <tr>\n",
       "      <th>1</th>\n",
       "      <td>nivel 3</td>\n",
       "      <td>5413</td>\n",
       "    </tr>\n",
       "    <tr>\n",
       "      <th>2</th>\n",
       "      <td>nivel_0</td>\n",
       "      <td>5403</td>\n",
       "    </tr>\n",
       "    <tr>\n",
       "      <th>3</th>\n",
       "      <td>nivel_1</td>\n",
       "      <td>5289</td>\n",
       "    </tr>\n",
       "  </tbody>\n",
       "</table>\n",
       "</div>"
      ],
      "text/plain": [
       "     nivel    id\n",
       "0  nivel 2  5508\n",
       "1  nivel 3  5413\n",
       "2  nivel_0  5403\n",
       "3  nivel_1  5289"
      ]
     },
     "execution_count": 7,
     "metadata": {},
     "output_type": "execute_result"
    }
   ],
   "source": [
    "data[['id', 'nivel']].groupby('nivel', as_index=False).count()"
   ]
  },
  {
   "cell_type": "markdown",
   "id": "ead0f6ad",
   "metadata": {},
   "source": [
    "### 2. Adicione as seguintes informações ao imóvel:\n",
    ">- O nome da Rua\n",
    ">- O número do Imóvel\n",
    ">- O nome do Bairro\n",
    ">- O nome da Cidade\n",
    ">- O nome da Estado"
   ]
  },
  {
   "cell_type": "code",
   "execution_count": 8,
   "id": "c610e1f6",
   "metadata": {},
   "outputs": [],
   "source": [
    "# Onde consigo essas informações:\n",
    "#  - API chamada GEOPYTHON\n",
    "# Qual dado que eu tenho na minha base consegue fazer o link com a API?\n",
    "#  - Latitude e Longiitude"
   ]
  },
  {
   "cell_type": "code",
   "execution_count": 9,
   "id": "e882b2f8",
   "metadata": {},
   "outputs": [],
   "source": [
    "# Importando a biblioteca geopy.geocoders"
   ]
  },
  {
   "cell_type": "code",
   "execution_count": 17,
   "id": "a86adf88",
   "metadata": {},
   "outputs": [],
   "source": [
    "import geopy"
   ]
  },
  {
   "cell_type": "code",
   "execution_count": 18,
   "id": "e631def4",
   "metadata": {},
   "outputs": [],
   "source": [
    "from geopy.geocoders import Nominatim"
   ]
  },
  {
   "cell_type": "code",
   "execution_count": 19,
   "id": "19b12b22",
   "metadata": {},
   "outputs": [],
   "source": [
    "# Inicializar Nominatim API\n",
    "geolocator = Nominatim(user_agent='geoapiExercise')"
   ]
  },
  {
   "cell_type": "code",
   "execution_count": 20,
   "id": "90378218",
   "metadata": {},
   "outputs": [],
   "source": [
    "import certifi"
   ]
  },
  {
   "cell_type": "code",
   "execution_count": 21,
   "id": "c49e89fa",
   "metadata": {},
   "outputs": [],
   "source": [
    "import ssl"
   ]
  },
  {
   "cell_type": "code",
   "execution_count": 22,
   "id": "560ebad4",
   "metadata": {},
   "outputs": [],
   "source": [
    "ctx = ssl.create_default_context(cafile=certifi.where())\n",
    "geopy.geocoders.options.default_ssl_context = ctx"
   ]
  },
  {
   "cell_type": "code",
   "execution_count": 23,
   "id": "96d32f76",
   "metadata": {},
   "outputs": [
    {
     "data": {
      "text/plain": [
       "Location(10012, 61st Avenue South, Rainier Beach, Seattle, King County, Washington, 98178, United States, (47.5112302, -122.25676111324441, 0.0))"
      ]
     },
     "execution_count": 23,
     "metadata": {},
     "output_type": "execute_result"
    }
   ],
   "source": [
    "response = geolocator.reverse('47.5112,-122.257')\n",
    "response"
   ]
  },
  {
   "cell_type": "code",
   "execution_count": 24,
   "id": "96829e24",
   "metadata": {},
   "outputs": [
    {
     "data": {
      "text/plain": [
       "geopy.location.Location"
      ]
     },
     "execution_count": 24,
     "metadata": {},
     "output_type": "execute_result"
    }
   ],
   "source": [
    "type(response)"
   ]
  },
  {
   "cell_type": "code",
   "execution_count": 25,
   "id": "65e73e61",
   "metadata": {},
   "outputs": [
    {
     "data": {
      "text/plain": [
       "{'place_id': 161022547,\n",
       " 'licence': 'Data © OpenStreetMap contributors, ODbL 1.0. https://osm.org/copyright',\n",
       " 'osm_type': 'way',\n",
       " 'osm_id': 236673600,\n",
       " 'lat': '47.5112302',\n",
       " 'lon': '-122.25676111324441',\n",
       " 'display_name': '10012, 61st Avenue South, Rainier Beach, Seattle, King County, Washington, 98178, United States',\n",
       " 'address': {'house_number': '10012',\n",
       "  'road': '61st Avenue South',\n",
       "  'neighbourhood': 'Rainier Beach',\n",
       "  'city': 'Seattle',\n",
       "  'county': 'King County',\n",
       "  'state': 'Washington',\n",
       "  'ISO3166-2-lvl4': 'US-WA',\n",
       "  'postcode': '98178',\n",
       "  'country': 'United States',\n",
       "  'country_code': 'us'},\n",
       " 'boundingbox': ['47.511189', '47.5112943', '-122.2568571', '-122.2566651']}"
      ]
     },
     "execution_count": 25,
     "metadata": {},
     "output_type": "execute_result"
    }
   ],
   "source": [
    "response.raw"
   ]
  },
  {
   "cell_type": "code",
   "execution_count": 26,
   "id": "cfe307bf",
   "metadata": {},
   "outputs": [
    {
     "data": {
      "text/plain": [
       "{'house_number': '10012',\n",
       " 'road': '61st Avenue South',\n",
       " 'neighbourhood': 'Rainier Beach',\n",
       " 'city': 'Seattle',\n",
       " 'county': 'King County',\n",
       " 'state': 'Washington',\n",
       " 'ISO3166-2-lvl4': 'US-WA',\n",
       " 'postcode': '98178',\n",
       " 'country': 'United States',\n",
       " 'country_code': 'us'}"
      ]
     },
     "execution_count": 26,
     "metadata": {},
     "output_type": "execute_result"
    }
   ],
   "source": [
    "response.raw['address']"
   ]
  },
  {
   "cell_type": "code",
   "execution_count": 27,
   "id": "a23cc26f",
   "metadata": {},
   "outputs": [
    {
     "name": "stdout",
     "output_type": "stream",
     "text": [
      "61st Avenue South\n",
      "10012\n",
      "Rainier Beach\n",
      "Seattle\n",
      "King County\n",
      "Washington\n"
     ]
    }
   ],
   "source": [
    "print(response.raw['address']['road'])\n",
    "print(response.raw['address']['house_number'])\n",
    "print(response.raw['address']['neighbourhood'])\n",
    "print(response.raw['address']['city'])\n",
    "print(response.raw['address']['county'])\n",
    "print(response.raw['address']['state'])"
   ]
  },
  {
   "cell_type": "code",
   "execution_count": 28,
   "id": "b365c19b",
   "metadata": {},
   "outputs": [],
   "source": [
    "data = pd.read_csv('kc_house_data.csv')\n",
    "\n",
    "# Criando linhas vazias\n",
    "data['road'] = 'NA'\n",
    "data['house_number'] = 'NA'\n",
    "data['city'] = 'NA'\n",
    "data['county'] = 'NA'\n",
    "data['state'] = 'NA'"
   ]
  },
  {
   "cell_type": "code",
   "execution_count": 29,
   "id": "aa3097cf",
   "metadata": {},
   "outputs": [
    {
     "data": {
      "text/html": [
       "<div>\n",
       "<style scoped>\n",
       "    .dataframe tbody tr th:only-of-type {\n",
       "        vertical-align: middle;\n",
       "    }\n",
       "\n",
       "    .dataframe tbody tr th {\n",
       "        vertical-align: top;\n",
       "    }\n",
       "\n",
       "    .dataframe thead th {\n",
       "        text-align: right;\n",
       "    }\n",
       "</style>\n",
       "<table border=\"1\" class=\"dataframe\">\n",
       "  <thead>\n",
       "    <tr style=\"text-align: right;\">\n",
       "      <th></th>\n",
       "      <th>id</th>\n",
       "      <th>date</th>\n",
       "      <th>price</th>\n",
       "      <th>bedrooms</th>\n",
       "      <th>bathrooms</th>\n",
       "      <th>sqft_living</th>\n",
       "      <th>sqft_lot</th>\n",
       "      <th>floors</th>\n",
       "      <th>waterfront</th>\n",
       "      <th>view</th>\n",
       "      <th>...</th>\n",
       "      <th>zipcode</th>\n",
       "      <th>lat</th>\n",
       "      <th>long</th>\n",
       "      <th>sqft_living15</th>\n",
       "      <th>sqft_lot15</th>\n",
       "      <th>road</th>\n",
       "      <th>house_number</th>\n",
       "      <th>city</th>\n",
       "      <th>county</th>\n",
       "      <th>state</th>\n",
       "    </tr>\n",
       "  </thead>\n",
       "  <tbody>\n",
       "    <tr>\n",
       "      <th>0</th>\n",
       "      <td>7129300520</td>\n",
       "      <td>20141013T000000</td>\n",
       "      <td>221900.0</td>\n",
       "      <td>3</td>\n",
       "      <td>1.00</td>\n",
       "      <td>1180</td>\n",
       "      <td>5650</td>\n",
       "      <td>1.0</td>\n",
       "      <td>0</td>\n",
       "      <td>0</td>\n",
       "      <td>...</td>\n",
       "      <td>98178</td>\n",
       "      <td>47.5112</td>\n",
       "      <td>-122.257</td>\n",
       "      <td>1340</td>\n",
       "      <td>5650</td>\n",
       "      <td>NA</td>\n",
       "      <td>NA</td>\n",
       "      <td>NA</td>\n",
       "      <td>NA</td>\n",
       "      <td>NA</td>\n",
       "    </tr>\n",
       "    <tr>\n",
       "      <th>1</th>\n",
       "      <td>6414100192</td>\n",
       "      <td>20141209T000000</td>\n",
       "      <td>538000.0</td>\n",
       "      <td>3</td>\n",
       "      <td>2.25</td>\n",
       "      <td>2570</td>\n",
       "      <td>7242</td>\n",
       "      <td>2.0</td>\n",
       "      <td>0</td>\n",
       "      <td>0</td>\n",
       "      <td>...</td>\n",
       "      <td>98125</td>\n",
       "      <td>47.7210</td>\n",
       "      <td>-122.319</td>\n",
       "      <td>1690</td>\n",
       "      <td>7639</td>\n",
       "      <td>NA</td>\n",
       "      <td>NA</td>\n",
       "      <td>NA</td>\n",
       "      <td>NA</td>\n",
       "      <td>NA</td>\n",
       "    </tr>\n",
       "    <tr>\n",
       "      <th>2</th>\n",
       "      <td>5631500400</td>\n",
       "      <td>20150225T000000</td>\n",
       "      <td>180000.0</td>\n",
       "      <td>2</td>\n",
       "      <td>1.00</td>\n",
       "      <td>770</td>\n",
       "      <td>10000</td>\n",
       "      <td>1.0</td>\n",
       "      <td>0</td>\n",
       "      <td>0</td>\n",
       "      <td>...</td>\n",
       "      <td>98028</td>\n",
       "      <td>47.7379</td>\n",
       "      <td>-122.233</td>\n",
       "      <td>2720</td>\n",
       "      <td>8062</td>\n",
       "      <td>NA</td>\n",
       "      <td>NA</td>\n",
       "      <td>NA</td>\n",
       "      <td>NA</td>\n",
       "      <td>NA</td>\n",
       "    </tr>\n",
       "    <tr>\n",
       "      <th>3</th>\n",
       "      <td>2487200875</td>\n",
       "      <td>20141209T000000</td>\n",
       "      <td>604000.0</td>\n",
       "      <td>4</td>\n",
       "      <td>3.00</td>\n",
       "      <td>1960</td>\n",
       "      <td>5000</td>\n",
       "      <td>1.0</td>\n",
       "      <td>0</td>\n",
       "      <td>0</td>\n",
       "      <td>...</td>\n",
       "      <td>98136</td>\n",
       "      <td>47.5208</td>\n",
       "      <td>-122.393</td>\n",
       "      <td>1360</td>\n",
       "      <td>5000</td>\n",
       "      <td>NA</td>\n",
       "      <td>NA</td>\n",
       "      <td>NA</td>\n",
       "      <td>NA</td>\n",
       "      <td>NA</td>\n",
       "    </tr>\n",
       "    <tr>\n",
       "      <th>4</th>\n",
       "      <td>1954400510</td>\n",
       "      <td>20150218T000000</td>\n",
       "      <td>510000.0</td>\n",
       "      <td>3</td>\n",
       "      <td>2.00</td>\n",
       "      <td>1680</td>\n",
       "      <td>8080</td>\n",
       "      <td>1.0</td>\n",
       "      <td>0</td>\n",
       "      <td>0</td>\n",
       "      <td>...</td>\n",
       "      <td>98074</td>\n",
       "      <td>47.6168</td>\n",
       "      <td>-122.045</td>\n",
       "      <td>1800</td>\n",
       "      <td>7503</td>\n",
       "      <td>NA</td>\n",
       "      <td>NA</td>\n",
       "      <td>NA</td>\n",
       "      <td>NA</td>\n",
       "      <td>NA</td>\n",
       "    </tr>\n",
       "  </tbody>\n",
       "</table>\n",
       "<p>5 rows × 26 columns</p>\n",
       "</div>"
      ],
      "text/plain": [
       "           id             date     price  bedrooms  bathrooms  sqft_living  \\\n",
       "0  7129300520  20141013T000000  221900.0         3       1.00         1180   \n",
       "1  6414100192  20141209T000000  538000.0         3       2.25         2570   \n",
       "2  5631500400  20150225T000000  180000.0         2       1.00          770   \n",
       "3  2487200875  20141209T000000  604000.0         4       3.00         1960   \n",
       "4  1954400510  20150218T000000  510000.0         3       2.00         1680   \n",
       "\n",
       "   sqft_lot  floors  waterfront  view  ...  zipcode      lat     long  \\\n",
       "0      5650     1.0           0     0  ...    98178  47.5112 -122.257   \n",
       "1      7242     2.0           0     0  ...    98125  47.7210 -122.319   \n",
       "2     10000     1.0           0     0  ...    98028  47.7379 -122.233   \n",
       "3      5000     1.0           0     0  ...    98136  47.5208 -122.393   \n",
       "4      8080     1.0           0     0  ...    98074  47.6168 -122.045   \n",
       "\n",
       "   sqft_living15  sqft_lot15  road  house_number  city  county  state  \n",
       "0           1340        5650    NA            NA    NA      NA     NA  \n",
       "1           1690        7639    NA            NA    NA      NA     NA  \n",
       "2           2720        8062    NA            NA    NA      NA     NA  \n",
       "3           1360        5000    NA            NA    NA      NA     NA  \n",
       "4           1800        7503    NA            NA    NA      NA     NA  \n",
       "\n",
       "[5 rows x 26 columns]"
      ]
     },
     "execution_count": 29,
     "metadata": {},
     "output_type": "execute_result"
    }
   ],
   "source": [
    "data.head()"
   ]
  },
  {
   "cell_type": "code",
   "execution_count": null,
   "id": "ce9c7561",
   "metadata": {},
   "outputs": [],
   "source": [
    "# data = pd.read_csv('kc_house_data.csv')\n",
    "\n",
    "# # Criando linhas vazias\n",
    "# data['road'] = 'NA'\n",
    "# data['house_number'] = 'NA'\n",
    "# data['city'] = 'NA'\n",
    "# data['county'] = 'NA'\n",
    "# data['state'] = 'NA'\n",
    "\n",
    "# # Inicializar Nominatim API\n",
    "# geolocator = Nominatim(user_agent='geoapiExercise')\n",
    "\n",
    "# for i in range(len(data)):\n",
    "#     print(f'Loop {i} / {len(data)}')\n",
    "#     # Montando consulta das latitudes e longitudes\n",
    "#     query = str(data['lat'][i]) + ',' + str(data['long'][i])\n",
    "    \n",
    "#     # API Request\n",
    "#     response = geolocator.reverse(query)\n",
    "    \n",
    "#     #Populando dados\n",
    "#     if 'house_number' in response.raw['address']:\n",
    "#         data.loc[i, 'house_number']  = response.raw['address']['house_number']\n",
    "        \n",
    "#     if 'road' in response.raw['address']:\n",
    "#         data.loc[i, 'road']          = response.raw['address']['road']\n",
    "    \n",
    "#     if 'neighbourhood' in response.raw['address']:\n",
    "#         data.loc[i, 'neighbourhood'] = response.raw['address']['neighbourhood']\n",
    "    \n",
    "#     if 'city' in response.raw['address']:\n",
    "#         data.loc[i, 'city']          = response.raw['address']['city']\n",
    "    \n",
    "#     if 'county' in response.raw['address']:\n",
    "#         data.loc[i, 'county']        = response.raw['address']['county']\n",
    "    \n",
    "#     if 'state' in response.raw['address']:\n",
    "#         data.loc[i, 'state']         = response.raw['address']['state']"
   ]
  },
  {
   "cell_type": "code",
   "execution_count": null,
   "id": "d6d97c4c",
   "metadata": {},
   "outputs": [],
   "source": [
    "str(data['lat'][1]) + ',' + str(data['long'][1])"
   ]
  },
  {
   "cell_type": "code",
   "execution_count": null,
   "id": "6521ff79",
   "metadata": {},
   "outputs": [],
   "source": [
    "data.head()"
   ]
  },
  {
   "cell_type": "markdown",
   "id": "039acef5",
   "metadata": {},
   "source": [
    "## Filtros iterativos no mapa"
   ]
  },
  {
   "cell_type": "code",
   "execution_count": null,
   "id": "3100b2c6",
   "metadata": {},
   "outputs": [],
   "source": [
    "import plotly.express as px"
   ]
  },
  {
   "cell_type": "code",
   "execution_count": null,
   "id": "0cec62a1",
   "metadata": {},
   "outputs": [],
   "source": [
    "data = pd.read_csv('kc_house_data.csv')\n",
    "houses = data[['id', 'lat', 'long', 'price']].copy()\n",
    "\n",
    "# Definindo a coluna level\n",
    "for i in range(len(houses)):\n",
    "    if houses.loc[i, 'price'] <= 321950:\n",
    "        houses.loc[i, 'level'] = 0\n",
    "    \n",
    "    elif (houses.loc[i, 'price'] > 321950) & (houses.loc[i, 'price'] <= 450000):\n",
    "        houses.loc[i, 'level'] = 1\n",
    "        \n",
    "    elif (houses.loc[i, 'price'] > 450000) & (houses.loc[i, 'price'] <= 645000):\n",
    "        houses.loc[i, 'level'] = 2\n",
    "        \n",
    "    else:\n",
    "        houses.loc[i, 'level'] = 3 \n",
    "        \n",
    "houses['level'] = houses['level'].astype('int64')\n",
    "\n",
    "fig = px.scatter_mapbox(houses,\n",
    "                        lat='lat',\n",
    "                        lon='long',\n",
    "                        color='level',\n",
    "                        size='price',\n",
    "                        color_continuous_scale=px.colors.cyclical.IceFire,\n",
    "                        size_max=15,\n",
    "                        zoom=10)\n",
    "\n",
    "fig.update_layout(mapbox_style='open-street-map')\n",
    "fig.update_layout(height=600, margin={'r': 0, 'l': 0, 't': 0, 'b': 0})\n",
    "fig.show()"
   ]
  },
  {
   "cell_type": "markdown",
   "id": "6ea1e30e",
   "metadata": {},
   "source": [
    "## Adicionando filtros interativos"
   ]
  },
  {
   "cell_type": "markdown",
   "id": "b0333f57",
   "metadata": {},
   "source": [
    "### 5. Adicionar opções de filtros para eu fazer minhas próprias análises:\n",
    ">1. Eu quero escolher visualizar imóveis com vista para água ou não.\n",
    ">2. Eu quero filtrar os imóveis até um certo valor de preço."
   ]
  },
  {
   "cell_type": "code",
   "execution_count": 30,
   "id": "b187a94d",
   "metadata": {},
   "outputs": [],
   "source": [
    "import ipywidgets as widgets\n",
    "from ipywidgets import fixed"
   ]
  },
  {
   "cell_type": "code",
   "execution_count": 31,
   "id": "86c8e3b1",
   "metadata": {},
   "outputs": [],
   "source": [
    "df = pd.read_csv('kc_house_data.csv')\n",
    "\n",
    "df['is_waterfront'] = df['waterfront'].apply(lambda x: 'yes' if x == 1 else 'no')\n",
    "\n",
    "df['level'] = df['price'].apply(lambda x: 0 if x < 321950 else\n",
    "                                          1 if (x >= 321950) & (x < 450000) else\n",
    "                                          2 if (x >= 450000) & (x < 645000) else 3)\n",
    "\n",
    "df['level'] = df['level'].astype('int64')\n",
    "style = {'description_width': 'initial'}\n",
    "\n",
    "#Botões interativos\n",
    "price_limit = widgets.IntSlider(\n",
    "    value=540000,\n",
    "    min=75000,\n",
    "    max=7700000,\n",
    "    step=1,\n",
    "    description='Maximun Price',\n",
    "    disable=False,\n",
    "    style=style)\n",
    "\n",
    "waterfront_bar = widgets.Dropdown(\n",
    "    options=df['is_waterfront'].unique().tolist(),\n",
    "    value=df['is_waterfront'].unique().tolist()[1],\n",
    "    description='Water View',\n",
    "    disable=False)\n",
    "\n",
    "def update_map(df, waterfront, limit):\n",
    "    houses = df[(df['price'] <= limit) & (df['is_waterfront'] == waterfront)][['id', 'lat', 'long', 'price', 'level']]\n",
    "    \n",
    "    fig = px.scatter_mapbox(houses,\n",
    "                            lat='lat',\n",
    "                            lon='long',\n",
    "                            color='level',\n",
    "                            size='price',\n",
    "                            color_continuous_scale=px.colors.cyclical.IceFire,\n",
    "                            size_max=15,\n",
    "                            zoom=10)\n",
    "\n",
    "    fig.update_layout(mapbox_style='open-street-map')\n",
    "    fig.update_layout(height=600, margin={'r': 0, 'l': 0, 't': 0, 'b': 0})\n",
    "    fig.show()"
   ]
  },
  {
   "cell_type": "code",
   "execution_count": 32,
   "id": "b1224a9c",
   "metadata": {},
   "outputs": [
    {
     "data": {
      "application/vnd.jupyter.widget-view+json": {
       "model_id": "fe6fb7c166e046f68d4388d54bfc4aeb",
       "version_major": 2,
       "version_minor": 0
      },
      "text/plain": [
       "interactive(children=(Dropdown(description='Water View', index=1, options=('no', 'yes'), value='yes'), IntSlid…"
      ]
     },
     "metadata": {},
     "output_type": "display_data"
    }
   ],
   "source": [
    "widgets.interactive(update_map, df=fixed(df), waterfront=waterfront_bar, limit=price_limit)"
   ]
  },
  {
   "cell_type": "code",
   "execution_count": null,
   "id": "3bd90a92",
   "metadata": {},
   "outputs": [],
   "source": [
    "price_limit"
   ]
  },
  {
   "cell_type": "code",
   "execution_count": null,
   "id": "e9621222",
   "metadata": {},
   "outputs": [],
   "source": [
    "waterfront_bar"
   ]
  },
  {
   "cell_type": "markdown",
   "id": "b44a4bc3",
   "metadata": {},
   "source": [
    "## Interatividade com o dashboard"
   ]
  },
  {
   "cell_type": "code",
   "execution_count": null,
   "id": "e44992f9",
   "metadata": {},
   "outputs": [],
   "source": [
    "from matplotlib import gridspec\n",
    "from matplotlib import pyplot as plt"
   ]
  },
  {
   "cell_type": "code",
   "execution_count": null,
   "id": "c8b6c40f",
   "metadata": {},
   "outputs": [],
   "source": [
    "# Preparando o dataset\n",
    "data = pd.read_csv('kc_house_data.csv')\n",
    "\n",
    "# Mudando formatos de data\n",
    "data['year'] = pd.to_datetime(data['date']).dt.strftime('%Y')\n",
    "data['date'] = pd.to_datetime(data['date']).dt.strftime('%Y-%m-%d')\n",
    "data['year_week'] = pd.to_datetime(data['date']).dt.strftime('%Y-%U')\n",
    "\n",
    "# Widgets para controle dos dados\n",
    "date_limit = widgets.SelectionSlider(\n",
    "    options=data['date'].sort_values().unique().tolist(),\n",
    "    value=data['date'].min(),\n",
    "    description='Disponível',\n",
    "    continuous_update=False,\n",
    "    orientation='horizontal',\n",
    "    readout=True)\n",
    "\n",
    "def update_map(data, limit):\n",
    "    # Filtrar dados\n",
    "    df = data[data['date'] >= limit].copy()\n",
    "    \n",
    "    fig = plt.figure(figsize=(24, 12))\n",
    "    specs = gridspec.GridSpec(ncols=2, nrows=2, figure=fig)\n",
    "    \n",
    "    ax1 = fig.add_subplot(specs[0, :]) # Primeira linha\n",
    "    ax2 = fig.add_subplot(specs[1, 0]) # Segunda linha, primeira coluna\n",
    "    ax3 = fig.add_subplot(specs[1, 1]) # Segunda linha, segunda coluna\n",
    "    \n",
    "    by_year = df[['id', 'year']].groupby('year').sum().reset_index()\n",
    "    ax1.bar(by_year['year'], by_year['id'])\n",
    "    ax1.set_title('Preços por ano')\n",
    "    \n",
    "    by_day = df[['id', 'date']].groupby('date').mean().reset_index()\n",
    "    ax2.plot(by_day['date'], by_day['id'])\n",
    "    ax2.set_title('Preço médio por dia')\n",
    "    \n",
    "    by_week_of_year = df[['id', 'year_week']].groupby('year_week').mean().reset_index()\n",
    "    ax3.bar(by_week_of_year['year_week'], by_week_of_year['id'])\n",
    "    ax3.set_title('Preço médio por semana do ano')\n",
    "    plt.xticks(rotation=60)"
   ]
  },
  {
   "cell_type": "code",
   "execution_count": null,
   "id": "9fa743a9",
   "metadata": {},
   "outputs": [],
   "source": [
    "date_limit"
   ]
  },
  {
   "cell_type": "code",
   "execution_count": null,
   "id": "ec2a0efd",
   "metadata": {},
   "outputs": [],
   "source": [
    "widgets.interactive(update_map, data=fixed(data), limit=date_limit)"
   ]
  },
  {
   "cell_type": "markdown",
   "id": "42aa6d88",
   "metadata": {},
   "source": [
    "# Exercícios"
   ]
  },
  {
   "cell_type": "markdown",
   "id": "50785d19",
   "metadata": {},
   "source": [
    "## Novas perguntas do CEO"
   ]
  },
  {
   "cell_type": "markdown",
   "id": "ad3c9050",
   "metadata": {},
   "source": [
    "### 1. Qual a média do preço de compra dos imóveis por \"Nível\":\n",
    "> - Nível 0: Preço entre RS0 e 321.950\n",
    "> - Nível 1: Preço entre RS321.950 e RS450.000\n",
    "> - Nível 2: Preço entre RS450.000 e RS645.000\n",
    ">-  Nível 3: Peço acima de RS645.000\n",
    "\n",
    "### 2. Qual a média do tamanho da sala de estar dos imóveis por \"Size\":\n",
    "> - Size 0: Tamanho entre 0 e 1427 sqft\n",
    "> - Size 1: Tamanho entre 1427 e 1910 sqft\n",
    "> - Size 2: Tamanho entre 1910 e 2550 sqft\n",
    "> - Size 3: Tamanho acima de 2550 sqft\n",
    "\n",
    "### 3. Adicione as seguintes informações ao conjunto de dados original:\n",
    "> - Place ID: Identificação da localização\n",
    "> - OSM Type: Open Street Map type\n",
    "> - Contry: Nome do país\n",
    "> - Country Code: Código do país\n",
    "\n",
    "### 4. Adicione os seguintes filtros ao mapa:\n",
    "> - Tamanho mínimo da área da sala de estar\n",
    "> - Número mínimo de banheiros\n",
    "> - Valor máximo do preço\n",
    "> - Tamanho máximo da área do porão\n",
    "> - Filtro das condições do imóvel\n",
    "> - Filtro por ano de contrução\n",
    "\n",
    "### 5. Adicione os seguintes filtros no dashboard:\n",
    "> - Filtro por data disponível para compra\n",
    "> - Filtro por ano de renovação\n",
    "> - Filtro se possui vista para água ou não"
   ]
  },
  {
   "cell_type": "markdown",
   "id": "fc4b6dd4",
   "metadata": {},
   "source": [
    "## Respondendo as perguntas do CEO"
   ]
  },
  {
   "cell_type": "code",
   "execution_count": 2,
   "id": "a6e0589a",
   "metadata": {},
   "outputs": [],
   "source": [
    "import pandas as pd"
   ]
  },
  {
   "cell_type": "markdown",
   "id": "34911ad8",
   "metadata": {},
   "source": [
    "### 1. Qual a média do preço de compra dos imóveis por \"Nível\":\n",
    "> - Nível 0: Preço entre RS0 e 321.950\n",
    "> - Nível 1: Preço entre RS321.950 e RS450.000\n",
    "> - Nível 2: Preço entre RS450.000 e RS645.000\n",
    ">-  Nível 3: Peço acima de RS645.000"
   ]
  },
  {
   "cell_type": "code",
   "execution_count": 3,
   "id": "23ba519d",
   "metadata": {},
   "outputs": [],
   "source": [
    "data = pd.read_csv('kc_house_data.csv')"
   ]
  },
  {
   "cell_type": "code",
   "execution_count": null,
   "id": "bd279c0d",
   "metadata": {},
   "outputs": [],
   "source": [
    "for i in range(len(data)):\n",
    "    if data.loc[i, 'price'] < 321950:\n",
    "        data.loc[i, 'level'] = 'nivel_0'\n",
    "\n",
    "    elif (data.loc[i, 'price'] >= 321950) &  (data.loc[i, 'price'] < 450000): \n",
    "        data.loc[i, 'level'] = 'nivel_1'\n",
    "\n",
    "    elif (data.loc[i, 'price'] >= 450000) &  (data.loc[i, 'price'] < 645000):  \n",
    "        data.loc[i, 'level'] = 'nivel_2'\n",
    "\n",
    "    else:    \n",
    "        data.loc[i, 'level'] = 'nivel_3'"
   ]
  },
  {
   "cell_type": "code",
   "execution_count": 5,
   "id": "e1e0a66f",
   "metadata": {},
   "outputs": [
    {
     "data": {
      "text/html": [
       "<div>\n",
       "<style scoped>\n",
       "    .dataframe tbody tr th:only-of-type {\n",
       "        vertical-align: middle;\n",
       "    }\n",
       "\n",
       "    .dataframe tbody tr th {\n",
       "        vertical-align: top;\n",
       "    }\n",
       "\n",
       "    .dataframe thead th {\n",
       "        text-align: right;\n",
       "    }\n",
       "</style>\n",
       "<table border=\"1\" class=\"dataframe\">\n",
       "  <thead>\n",
       "    <tr style=\"text-align: right;\">\n",
       "      <th></th>\n",
       "      <th>level</th>\n",
       "      <th>price</th>\n",
       "    </tr>\n",
       "  </thead>\n",
       "  <tbody>\n",
       "    <tr>\n",
       "      <th>0</th>\n",
       "      <td>level_0</td>\n",
       "      <td>251544.621507</td>\n",
       "    </tr>\n",
       "    <tr>\n",
       "      <th>1</th>\n",
       "      <td>level_1</td>\n",
       "      <td>383585.205332</td>\n",
       "    </tr>\n",
       "    <tr>\n",
       "      <th>2</th>\n",
       "      <td>level_2</td>\n",
       "      <td>536164.422840</td>\n",
       "    </tr>\n",
       "    <tr>\n",
       "      <th>3</th>\n",
       "      <td>level_3</td>\n",
       "      <td>985008.983189</td>\n",
       "    </tr>\n",
       "  </tbody>\n",
       "</table>\n",
       "</div>"
      ],
      "text/plain": [
       "     level          price\n",
       "0  level_0  251544.621507\n",
       "1  level_1  383585.205332\n",
       "2  level_2  536164.422840\n",
       "3  level_3  985008.983189"
      ]
     },
     "execution_count": 5,
     "metadata": {},
     "output_type": "execute_result"
    }
   ],
   "source": [
    "data[['price', 'level']].groupby(by='level', as_index=False).mean().sort_values(by='level', ascending=True)"
   ]
  },
  {
   "cell_type": "markdown",
   "id": "1fd0604a",
   "metadata": {},
   "source": [
    "### 2. Qual a média do tamanho da sala de estar dos imóveis por \"Size\":\n",
    "> - Size 0: Tamanho entre 0 e 1427 sqft\n",
    "> - Size 1: Tamanho entre 1427 e 1910 sqft\n",
    "> - Size 2: Tamanho entre 1910 e 2550 sqft\n",
    "> - Size 3: Tamanho acima de 2550 sqft"
   ]
  },
  {
   "cell_type": "code",
   "execution_count": null,
   "id": "693784f8",
   "metadata": {},
   "outputs": [],
   "source": [
    "data.columns"
   ]
  },
  {
   "cell_type": "code",
   "execution_count": 6,
   "id": "931a7c40",
   "metadata": {},
   "outputs": [],
   "source": [
    "for i in range(len(data)):\n",
    "    if data.loc[i, 'sqft_living'] < 1427:\n",
    "        data.loc[i, 'size'] = 'size_0'\n",
    "    \n",
    "    elif (data.loc[i, 'sqft_living'] >= 1427) & (data.loc[i, 'sqft_living'] < 1910):\n",
    "        data.loc[i, 'size'] = 'size_1'\n",
    "    \n",
    "    elif (data.loc[i, 'sqft_living'] >= 1910) & (data.loc[i, 'sqft_living'] < 2550):\n",
    "        data.loc[i, 'size'] = 'size_2'\n",
    "        \n",
    "    else:\n",
    "        data.loc[i, 'size'] = 'size_3'"
   ]
  },
  {
   "cell_type": "code",
   "execution_count": 7,
   "id": "658ad580",
   "metadata": {},
   "outputs": [
    {
     "data": {
      "text/html": [
       "<div>\n",
       "<style scoped>\n",
       "    .dataframe tbody tr th:only-of-type {\n",
       "        vertical-align: middle;\n",
       "    }\n",
       "\n",
       "    .dataframe tbody tr th {\n",
       "        vertical-align: top;\n",
       "    }\n",
       "\n",
       "    .dataframe thead th {\n",
       "        text-align: right;\n",
       "    }\n",
       "</style>\n",
       "<table border=\"1\" class=\"dataframe\">\n",
       "  <thead>\n",
       "    <tr style=\"text-align: right;\">\n",
       "      <th></th>\n",
       "      <th>size</th>\n",
       "      <th>sqft_living</th>\n",
       "    </tr>\n",
       "  </thead>\n",
       "  <tbody>\n",
       "    <tr>\n",
       "      <th>0</th>\n",
       "      <td>size_0</td>\n",
       "      <td>1123.776421</td>\n",
       "    </tr>\n",
       "    <tr>\n",
       "      <th>1</th>\n",
       "      <td>size_1</td>\n",
       "      <td>1661.198088</td>\n",
       "    </tr>\n",
       "    <tr>\n",
       "      <th>2</th>\n",
       "      <td>size_2</td>\n",
       "      <td>2202.700239</td>\n",
       "    </tr>\n",
       "    <tr>\n",
       "      <th>3</th>\n",
       "      <td>size_3</td>\n",
       "      <td>3318.988404</td>\n",
       "    </tr>\n",
       "  </tbody>\n",
       "</table>\n",
       "</div>"
      ],
      "text/plain": [
       "     size  sqft_living\n",
       "0  size_0  1123.776421\n",
       "1  size_1  1661.198088\n",
       "2  size_2  2202.700239\n",
       "3  size_3  3318.988404"
      ]
     },
     "execution_count": 7,
     "metadata": {},
     "output_type": "execute_result"
    }
   ],
   "source": [
    "data[['sqft_living', 'size']].groupby(by='size', as_index=False).mean().sort_values(by='size', ascending=True)"
   ]
  },
  {
   "cell_type": "markdown",
   "id": "bfbaac6a",
   "metadata": {},
   "source": [
    "### 3. Adicione as seguintes informações ao conjunto de dados original:\n",
    "> - Place ID: Identificação da localização\n",
    "> - OSM Type: Open Street Map type\n",
    "> - Country: Nome do país\n",
    "> - Country Code: Código do país"
   ]
  },
  {
   "cell_type": "code",
   "execution_count": 1,
   "id": "89bb8120",
   "metadata": {
    "ExecuteTime": {
     "end_time": "2022-05-25T15:30:14.024698Z",
     "start_time": "2022-05-25T15:30:13.541864Z"
    }
   },
   "outputs": [],
   "source": [
    "import pandas as pd"
   ]
  },
  {
   "cell_type": "code",
   "execution_count": 2,
   "id": "4e2f393f",
   "metadata": {
    "ExecuteTime": {
     "end_time": "2022-05-25T15:30:14.603652Z",
     "start_time": "2022-05-25T15:30:14.528772Z"
    }
   },
   "outputs": [],
   "source": [
    "data = pd.read_csv('kc_house_data.csv')"
   ]
  },
  {
   "cell_type": "code",
   "execution_count": 3,
   "id": "59ecebbe",
   "metadata": {
    "ExecuteTime": {
     "end_time": "2022-05-25T15:30:15.428424Z",
     "start_time": "2022-05-25T15:30:15.326057Z"
    }
   },
   "outputs": [],
   "source": [
    "import certifi\n",
    "import ssl\n",
    "import geopy\n",
    "\n",
    "ctx = ssl.create_default_context(cafile=certifi.where())\n",
    "geopy.geocoders.options.default_ssl_context = ctx"
   ]
  },
  {
   "cell_type": "code",
   "execution_count": 5,
   "id": "f79f143b",
   "metadata": {
    "ExecuteTime": {
     "end_time": "2022-05-25T15:33:43.596737Z",
     "start_time": "2022-05-25T15:33:42.947735Z"
    }
   },
   "outputs": [
    {
     "data": {
      "text/plain": [
       "{'place_id': 284901325,\n",
       " 'licence': 'Data © OpenStreetMap contributors, ODbL 1.0. https://osm.org/copyright',\n",
       " 'osm_type': 'relation',\n",
       " 'osm_id': 6281016,\n",
       " 'lat': '47.646298349999995',\n",
       " 'lon': '-122.20746933972913',\n",
       " 'display_name': 'Yarrow Bay Wetlands, SR 520 Trail, Bellevue, King County, Washington, 98033-7722, United States',\n",
       " 'address': {'leisure': 'Yarrow Bay Wetlands',\n",
       "  'road': 'SR 520 Trail',\n",
       "  'city': 'Bellevue',\n",
       "  'county': 'King County',\n",
       "  'state': 'Washington',\n",
       "  'ISO3166-2-lvl4': 'US-WA',\n",
       "  'postcode': '98033-7722',\n",
       "  'country': 'United States',\n",
       "  'country_code': 'us'},\n",
       " 'boundingbox': ['47.6430475', '47.6495293', '-122.2119181', '-122.2018606']}"
      ]
     },
     "execution_count": 5,
     "metadata": {},
     "output_type": "execute_result"
    }
   ],
   "source": [
    "from geopy.geocoders import Nominatim\n",
    "\n",
    "geolocator = Nominatim(user_agent='geoapiExercise')\n",
    "response = geolocator.reverse('47.65,-122.21', timeout=3)\n",
    "response.raw"
   ]
  },
  {
   "cell_type": "code",
   "execution_count": 5,
   "id": "a199f9a0",
   "metadata": {
    "ExecuteTime": {
     "end_time": "2022-05-24T13:39:47.469406Z",
     "start_time": "2022-05-24T13:39:47.458101Z"
    }
   },
   "outputs": [
    {
     "data": {
      "text/plain": [
       "(21613, 21)"
      ]
     },
     "execution_count": 5,
     "metadata": {},
     "output_type": "execute_result"
    }
   ],
   "source": [
    "data.shape"
   ]
  },
  {
   "cell_type": "code",
   "execution_count": 7,
   "id": "2f0fd589",
   "metadata": {
    "ExecuteTime": {
     "end_time": "2022-05-24T13:42:23.998487Z",
     "start_time": "2022-05-24T13:41:30.455218Z"
    }
   },
   "outputs": [
    {
     "name": "stdout",
     "output_type": "stream",
     "text": [
      "Start: 7.0000000000\n"
     ]
    }
   ],
   "source": [
    "import time\n",
    "import defs\n",
    "from multiprocessing import Pool\n",
    "\n",
    "data['query'] = data[['lat', 'long']].apply(lambda x: str(x['lat']) + ',' + str(x['long']), axis=1)\n",
    "df1 = data[['id', 'query']].head(100)\n",
    "\n",
    "p = Pool(4)\n",
    "start = time.process_time()\n",
    "df1[['place_id', 'osm_type', 'house_number', 'road', 'neighbourhood', 'city', 'county', 'state', 'country', 'country_code']] = p.map(defs.get_data, df1.iterrows())\n",
    "# end = time.process_time()\n",
    "# time_elapsed = end - start\n",
    "print(f'Start: {start:.10f}')"
   ]
  },
  {
   "cell_type": "code",
   "execution_count": null,
   "id": "5ce1daae",
   "metadata": {},
   "outputs": [],
   "source": [
    "df1.head(100)"
   ]
  },
  {
   "cell_type": "code",
   "execution_count": 3,
   "id": "372e6945",
   "metadata": {},
   "outputs": [
    {
     "data": {
      "text/plain": [
       "Location(10012, 61st Avenue South, Rainier Beach, Seattle, King County, Washington, 98178, United States, (47.5112302, -122.25676111324441, 0.0))"
      ]
     },
     "execution_count": 3,
     "metadata": {},
     "output_type": "execute_result"
    }
   ],
   "source": [
    "# import geopy\n",
    "# from geopy.geocoders import Nominatim\n",
    "\n",
    "# import certifi\n",
    "# import ssl\n",
    "\n",
    "# ctx = ssl.create_default_context(cafile=certifi.where())\n",
    "# geopy.geocoders.options.default_ssl_context = ctx\n",
    "\n",
    "# # Inicializar Nominatim API\n",
    "# geolocator = Nominatim(user_agent='geoapiExercise')\n",
    "\n",
    "# response = geolocator.reverse('47.5112,-122.257')\n",
    "# response"
   ]
  },
  {
   "cell_type": "code",
   "execution_count": 4,
   "id": "00d47446",
   "metadata": {},
   "outputs": [],
   "source": [
    "import time\n",
    "from multiprocessing import Pool"
   ]
  },
  {
   "cell_type": "code",
   "execution_count": 5,
   "id": "8b1fad7a",
   "metadata": {},
   "outputs": [],
   "source": [
    "data['query'] = data[['lat', 'long']].apply(lambda x: str(x['lat']) + ',' + str(x['long']), axis=1)"
   ]
  },
  {
   "cell_type": "code",
   "execution_count": 6,
   "id": "20f76af6",
   "metadata": {},
   "outputs": [
    {
     "data": {
      "text/html": [
       "<div>\n",
       "<style scoped>\n",
       "    .dataframe tbody tr th:only-of-type {\n",
       "        vertical-align: middle;\n",
       "    }\n",
       "\n",
       "    .dataframe tbody tr th {\n",
       "        vertical-align: top;\n",
       "    }\n",
       "\n",
       "    .dataframe thead th {\n",
       "        text-align: right;\n",
       "    }\n",
       "</style>\n",
       "<table border=\"1\" class=\"dataframe\">\n",
       "  <thead>\n",
       "    <tr style=\"text-align: right;\">\n",
       "      <th></th>\n",
       "      <th>id</th>\n",
       "      <th>query</th>\n",
       "    </tr>\n",
       "  </thead>\n",
       "  <tbody>\n",
       "    <tr>\n",
       "      <th>0</th>\n",
       "      <td>7129300520</td>\n",
       "      <td>47.5112,-122.257</td>\n",
       "    </tr>\n",
       "    <tr>\n",
       "      <th>1</th>\n",
       "      <td>6414100192</td>\n",
       "      <td>47.721,-122.319</td>\n",
       "    </tr>\n",
       "    <tr>\n",
       "      <th>2</th>\n",
       "      <td>5631500400</td>\n",
       "      <td>47.7379,-122.233</td>\n",
       "    </tr>\n",
       "    <tr>\n",
       "      <th>3</th>\n",
       "      <td>2487200875</td>\n",
       "      <td>47.5208,-122.393</td>\n",
       "    </tr>\n",
       "    <tr>\n",
       "      <th>4</th>\n",
       "      <td>1954400510</td>\n",
       "      <td>47.6168,-122.045</td>\n",
       "    </tr>\n",
       "  </tbody>\n",
       "</table>\n",
       "</div>"
      ],
      "text/plain": [
       "           id             query\n",
       "0  7129300520  47.5112,-122.257\n",
       "1  6414100192   47.721,-122.319\n",
       "2  5631500400  47.7379,-122.233\n",
       "3  2487200875  47.5208,-122.393\n",
       "4  1954400510  47.6168,-122.045"
      ]
     },
     "execution_count": 6,
     "metadata": {},
     "output_type": "execute_result"
    }
   ],
   "source": [
    "data[['id', 'query']].head()"
   ]
  },
  {
   "cell_type": "code",
   "execution_count": null,
   "id": "f2526292",
   "metadata": {},
   "outputs": [],
   "source": [
    "# def get_data(x):\n",
    "#     index, row = x\n",
    "#     time.sleep(1)\n",
    "    \n",
    "#     # Chamada API\n",
    "#     geolocator.reverse(row['query'])\n",
    "    \n",
    "#     place_id = response.raw['place_id']\n",
    "#     osm_type = response.raw['osm_type']\n",
    "#     country = response.raw['address']['country']\n",
    "#     country_code = response.raw['address']['country_code']\n",
    "    \n",
    "#     return place_id, osm_type, country, country_code"
   ]
  },
  {
   "cell_type": "code",
   "execution_count": 7,
   "id": "1b3eea52",
   "metadata": {},
   "outputs": [
    {
     "data": {
      "text/plain": [
       "<generator object DataFrame.iterrows at 0x000001DFB42009E0>"
      ]
     },
     "execution_count": 7,
     "metadata": {},
     "output_type": "execute_result"
    }
   ],
   "source": [
    "df1 = data[['id', 'query']]\n",
    "df1.iterrows()"
   ]
  },
  {
   "cell_type": "code",
   "execution_count": null,
   "id": "beeec271",
   "metadata": {},
   "outputs": [],
   "source": [
    "import defs\n",
    "\n",
    "p = Pool(3)\n",
    "\n",
    "start = time.process_time()\n",
    "df1[['place_id', 'ost_type', 'country', 'country_code']] = p.map(defs.get_data, df1.iterrows())\n",
    "end = time.process_time()\n",
    "\n",
    "print(f'Time elapsed: {end - start}')"
   ]
  },
  {
   "cell_type": "code",
   "execution_count": null,
   "id": "dcfcd479",
   "metadata": {},
   "outputs": [],
   "source": []
  },
  {
   "cell_type": "code",
   "execution_count": null,
   "id": "edc441e5",
   "metadata": {},
   "outputs": [],
   "source": []
  },
  {
   "cell_type": "code",
   "execution_count": null,
   "id": "4874dd73",
   "metadata": {},
   "outputs": [],
   "source": []
  },
  {
   "cell_type": "code",
   "execution_count": null,
   "id": "b7b56bdf",
   "metadata": {},
   "outputs": [],
   "source": []
  },
  {
   "cell_type": "code",
   "execution_count": null,
   "id": "53750efa",
   "metadata": {},
   "outputs": [],
   "source": [
    "#response.raw"
   ]
  },
  {
   "cell_type": "code",
   "execution_count": null,
   "id": "36d2b30c",
   "metadata": {},
   "outputs": [],
   "source": [
    "# print(response.raw['place_id'])\n",
    "# print(response.raw['osm_type'])\n",
    "# print(response.raw['address']['country'])\n",
    "# print(response.raw['address']['country_code'])"
   ]
  },
  {
   "cell_type": "code",
   "execution_count": null,
   "id": "6e2d52d7",
   "metadata": {},
   "outputs": [],
   "source": [
    "# data['place_id'] = 'NA'\n",
    "# data['osm_type'] = 'NA'\n",
    "# data['country'] = 'NA'\n",
    "# data['country_code'] = 'NA'"
   ]
  },
  {
   "cell_type": "code",
   "execution_count": null,
   "id": "a89c942a",
   "metadata": {},
   "outputs": [],
   "source": [
    "# for i in range(0, 10):\n",
    "#     response = geolocator.reverse(str(data.loc[i, 'lat']) + ',' + str(data.loc[i, 'long']))\n",
    "    \n",
    "#     if 'place_id' in response.raw:\n",
    "#         data.loc[i, 'place_id'] = response.raw['place_id']\n",
    "\n",
    "#     if 'osm_type' in response.raw:\n",
    "#         data.loc[i, 'osm_type'] = response.raw['osm_type']    \n",
    "\n",
    "#     if 'country' in response.raw['address']:\n",
    "#         data.loc[i, 'country'] = response.raw['address']['country']\n",
    "        \n",
    "#     if 'country_code' in response.raw['address']:\n",
    "#         data.loc[i, 'country_code'] = response.raw['address']['country_code']\n"
   ]
  },
  {
   "cell_type": "code",
   "execution_count": null,
   "id": "41975b00",
   "metadata": {},
   "outputs": [],
   "source": [
    "# data.head()"
   ]
  },
  {
   "cell_type": "markdown",
   "id": "81130d0a",
   "metadata": {
    "heading_collapsed": true
   },
   "source": [
    "### 4. Adicione os seguintes filtros ao mapa:\n",
    "> - Tamanho mínimo da área da sala de estar - int - IntSlider\n",
    "> - Número mínimo de banheiros - float - FloatSlider\n",
    "> - Valor máximo do preço - float - FloatSlider\n",
    "> - Tamanho máximo da área do porão - IntSlider\n",
    "> - Filtro das condições do imóvel - str - Dropdown\n",
    "> - Filtro por ano de contrução - int - IntSlider"
   ]
  },
  {
   "cell_type": "code",
   "execution_count": null,
   "id": "934b28d6",
   "metadata": {
    "hidden": true
   },
   "outputs": [],
   "source": [
    "data['condition_type'] = data['condition'].apply(lambda x: 'good' if x == 5 else ('regular' if (x == 3 or x == 4) else 'bad'))"
   ]
  },
  {
   "cell_type": "code",
   "execution_count": null,
   "id": "5893d2f2",
   "metadata": {
    "hidden": true
   },
   "outputs": [],
   "source": [
    "data.dtypes"
   ]
  },
  {
   "cell_type": "code",
   "execution_count": null,
   "id": "85d06418",
   "metadata": {
    "hidden": true
   },
   "outputs": [],
   "source": [
    "import plotly.express as px\n",
    "import ipywidgets as widgets\n",
    "from ipywidgets import fixed"
   ]
  },
  {
   "cell_type": "code",
   "execution_count": null,
   "id": "d0a737b5",
   "metadata": {
    "hidden": true
   },
   "outputs": [],
   "source": [
    "# Função que plota o gráfico:\n",
    "# widgets.interactive(update_map, data=fixed(data), limit=date_limit)\n",
    "\n",
    "#Parâmetros da função:\n",
    "# - update_map: função que filtra o dataset com os filtros interativos\n",
    "# - df=fixed(df): inserir o df que foi dado como parâmetro da fução update_map\n",
    "# - filtro_interativo=nome_filtro_interativo"
   ]
  },
  {
   "cell_type": "code",
   "execution_count": null,
   "id": "23ed32c5",
   "metadata": {
    "hidden": true
   },
   "outputs": [],
   "source": [
    "# 1. Criação das colunas que serão usadas para aplicar os filtros\n",
    "data['is_waterfront'] = data['waterfront'].apply(lambda x: 'yes' if x == 1 else 'no')\n",
    "\n",
    "# 2. Criação da variável style\n",
    "style = {'description_width': 'initial'}\n",
    "\n",
    "# 3. Botões interativos\n",
    "price_limit = widgets.FloatSlider(\n",
    "    value=data['price'].median(),\n",
    "    min=data['price'].min(),\n",
    "    max=data['price'].max(),\n",
    "    step=1,\n",
    "    description='Maximum Price',\n",
    "    disable=False,\n",
    "    style=style)\n",
    "\n",
    "waterfront_bar = widgets.Dropdown(\n",
    "    options=data['is_waterfront'].unique().tolist(),\n",
    "    value=data['is_waterfront'].unique().tolist()[0],\n",
    "    description='Water View',\n",
    "    disable=False)\n",
    "\n",
    "sqft_living_limit = widgets.IntSlider(\n",
    "    value=data['sqft_living'].median(),\n",
    "    min=data['sqft_living'].min(),\n",
    "    max=data['sqft_living'].max(),\n",
    "    step=1,\n",
    "    description='Maximum Living Room Area (ft²)',\n",
    "    disable=False,\n",
    "    style=style)\n",
    "\n",
    "bathrooms_limit = widgets.FloatSlider(\n",
    "    value=data['bathrooms'].median(),\n",
    "    min=data['bathrooms'].min(),\n",
    "    max=data['bathrooms'].max(),\n",
    "    step=0.5,\n",
    "    description='Number of bathrooms',\n",
    "    disable=False,\n",
    "    style=style)\n",
    "\n",
    "sqft_basement_limit = widgets.IntSlider(\n",
    "    value=data['sqft_basement'].median(),\n",
    "    min=data['sqft_basement'].min(),\n",
    "    max=data['sqft_basement'].max(),\n",
    "    step=1,\n",
    "    description='Maximum Basement Area (ft²)',\n",
    "    disable=False,\n",
    "    style=style)\n",
    "\n",
    "condition_type_bar = widgets.Dropdown(\n",
    "    options=data['condition_type'].unique().tolist(),\n",
    "    value=data['condition_type'].unique().tolist()[0],\n",
    "    description='Condition Type',\n",
    "    disable=False)\n",
    "\n",
    "yr_built_limit = widgets.IntSlider(\n",
    "    value=data['yr_built'].median(),\n",
    "    min=data['yr_built'].min(),\n",
    "    max=data['yr_built'].max(),\n",
    "    step=1,\n",
    "    description='Year Built',\n",
    "    disable=False,\n",
    "    style=style)\n",
    "\n",
    "def update_map(data, price_limit, waterfront_bar, sqft_living_limit, \n",
    "               bathrooms_limit, sqft_basement_limit, condition_type_bar,\n",
    "               yr_built_limit):\n",
    "    houses = data[(data['price'] <= price_limit) & \n",
    "                  (data['is_waterfront'] == waterfront_bar) & \n",
    "                  (data['sqft_living'] <= sqft_living_limit) & \n",
    "                  (data['bathrooms'] <= bathrooms_limit) & \n",
    "                  (data['sqft_basement'] <= sqft_basement_limit) & \n",
    "                  (data['condition_type'] == condition_type_bar) & \n",
    "                  (data['yr_built'] <= yr_built_limit)][['id', 'lat', 'long', 'price', 'level']]\n",
    "    \n",
    "    fig = px.scatter_mapbox(houses,\n",
    "                            lat='lat', \n",
    "                            lon='long',\n",
    "                            color='level',\n",
    "                            size='price',\n",
    "                            color_continuous_scale=px.colors.cyclical.IceFire,\n",
    "                            size_max=15,\n",
    "                            zoom=10)\n",
    "    \n",
    "    fig.update_layout(mapbox_style='open-street-map')\n",
    "    fig.update_layout(height=600, margin={'r': 0, 'l': 0, 't': 0, 'b': 0})\n",
    "    fig.show()"
   ]
  },
  {
   "cell_type": "code",
   "execution_count": null,
   "id": "61f26c5c",
   "metadata": {
    "hidden": true
   },
   "outputs": [],
   "source": [
    "widgets.interactive(update_map, data=fixed(data), price_limit=price_limit, waterfront_bar=waterfront_bar, sqft_living_limit=sqft_living_limit, bathrooms_limit=bathrooms_limit, sqft_basement_limit=sqft_basement_limit, condition_type_bar=condition_type_bar, yr_built_limit=yr_built_limit)"
   ]
  },
  {
   "cell_type": "code",
   "execution_count": null,
   "id": "ead18254",
   "metadata": {
    "hidden": true
   },
   "outputs": [],
   "source": [
    ", sqft_living_limit=sqft_living_limit, bathrooms_limit=bathrooms_limit, sqft_basement_limit=sqft_basement_limit, condition_type_bar, yr_built_limit=yr_built_limit)"
   ]
  },
  {
   "cell_type": "markdown",
   "id": "b8676e5e",
   "metadata": {},
   "source": [
    "### 5. Adicione os seguintes filtros no dashboard:\n",
    "> - Filtro por data disponível para compra - IntSlider\n",
    "> - Filtro por ano de renovação - IntSlider\n",
    "> - Filtro se possui vista para água ou não - Radiobuttons"
   ]
  },
  {
   "cell_type": "code",
   "execution_count": null,
   "id": "31cbf2bb",
   "metadata": {},
   "outputs": [],
   "source": [
    "# Preparando o dataset\n",
    "data = pd.read_csv('kc_house_data.csv')\n",
    "\n",
    "# Transformando os tipos de dados de datas\n",
    "data['yr_renovated'] = pd.to_datetime(data['date']).dt.strftime('%Y')\n",
    "data['date'] = pd.to_datetime(data['date']).dt.strftime('%Y-%m-%d')\n",
    "data['year'] = pd.to_datetime(data['date']).dt.strftime('%Y')\n",
    "data['year_week'] = pd.to_datetime(data['date']).dt.strftime('%Y-%U')\n",
    "\n",
    "# Criando a coluna 'is_waterfront' para aplicação do widget\n",
    "data['is_waterfront'] = data['waterfront'].apply(lambda x: 'yes' if x == 1 else 'no')\n",
    "\n",
    "# Preparando os widgets interativos\n",
    "date_limit = widgets.SelectionSlider(options=data['date'].sort_values().unique().tolist(),\n",
    "                               value=data['date'].min(),\n",
    "                               min=data['date'].min(),\n",
    "                               max=data['date'].max(),\n",
    "                               step=1,\n",
    "                               description='Date available',\n",
    "                               disabled=False,\n",
    "                               continuous_update=False)\n",
    "\n",
    "yr_renovated_limit = widgets.IntSlider(options=data['yr_renovated'].sort_values().unique().tolist(),\n",
    "                                       value=data['yr_renovated'].min(),\n",
    "                                       min=data['yr_renovated'].min(),\n",
    "                                       max=data['yr_renovated'].max(),\n",
    "                                       step=1,\n",
    "                                       description='Year of renovation',\n",
    "                                       disabled=False,\n",
    "                                       continuous_update=False)\n",
    "\n",
    "is_waterfront = widgets.RadioButtons(options=data['is_waterfront'].unique().tolist(),\n",
    "                                     value=data['is_waterfront'].unique().tolist()[0],\n",
    "                                     description='Is Waterfront',\n",
    "                                     disabled=False)\n",
    "\n",
    "# Função update_map\n",
    "def update_map(data, date_limit, yr_renovated_limit, is_waterfront):\n",
    "    # Filtrando os dados\n",
    "    houses = data[(data['date'] <= date_limit) &\n",
    "             (data['yr_renovated'].astype(dtype='int64') == yr_renovated_limit) &\n",
    "             (data['is_waterfront'] == is_waterfront)]\n",
    "\n",
    "    # Criando dashboard\n",
    "    fig = plt.figure(figsize=(24, 12))\n",
    "    specs=gridspec.GridSpec(ncols=2, nrows=2, figure=fig)\n",
    "\n",
    "    ax1 = fig.add_subplot(specs[0, :])\n",
    "    ax2 = fig.add_subplot(specs[1, 0])\n",
    "    ax3 = fig.add_subplot(specs[1, 1])\n",
    "\n",
    "    by_year = data[['id', 'year']].groupby('year').sum().reset_index()\n",
    "    ax1.bar(by_year['year'], by_year['id'])\n",
    "    ax1.set_title('Preços por ano')\n",
    "\n",
    "    by_day = data[['id', 'date']].groupby('date').mean().reset_index()\n",
    "    ax2.plot(by_day['date'], by_day['id'])\n",
    "    ax2.set_title('Preço médio por dia')\n",
    "\n",
    "    by_week_of_year = data[['id', 'year_week']].groupby('year_week').mean().reset_index()\n",
    "    ax3.bar(by_week_of_year['year_week'], by_week_of_year['id'])\n",
    "    ax3.set_title('Preço médio por semana do ano')\n",
    "    plt.xticks(rotation=60)"
   ]
  },
  {
   "cell_type": "code",
   "execution_count": null,
   "id": "6ac3cc88",
   "metadata": {},
   "outputs": [],
   "source": [
    "widgets.interactive(update_map, data=fixed(data), date_limit=date_limit, yr_renovated_limit=yr_renovated_limit, is_waterfront=is_waterfront)"
   ]
  },
  {
   "cell_type": "code",
   "execution_count": null,
   "id": "714f50e1",
   "metadata": {},
   "outputs": [],
   "source": []
  }
 ],
 "metadata": {
  "kernelspec": {
   "display_name": "Python 3 (ipykernel)",
   "language": "python",
   "name": "python3"
  },
  "language_info": {
   "codemirror_mode": {
    "name": "ipython",
    "version": 3
   },
   "file_extension": ".py",
   "mimetype": "text/x-python",
   "name": "python",
   "nbconvert_exporter": "python",
   "pygments_lexer": "ipython3",
   "version": "3.8.12"
  }
 },
 "nbformat": 4,
 "nbformat_minor": 5
}
